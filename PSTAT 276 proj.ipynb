{
 "cells": [
  {
   "cell_type": "code",
   "execution_count": 2,
   "metadata": {},
   "outputs": [],
   "source": [
    "#! pip install progressbar"
   ]
  },
  {
   "cell_type": "code",
   "execution_count": 3,
   "metadata": {},
   "outputs": [],
   "source": [
    "from progressbar import ProgressBar"
   ]
  },
  {
   "cell_type": "code",
   "execution_count": 4,
   "metadata": {},
   "outputs": [],
   "source": [
    "import numpy as np\n",
    "from sklearn.ensemble import RandomForestRegressor\n",
    "#from sklearn.neighbors import kneighbors_graph, NearestNeighbors\n",
    "import scipy\n",
    "import scipy.sparse as sparse\n",
    "from scipy.stats import norm\n",
    "import matplotlib.pyplot as plt"
   ]
  },
  {
   "cell_type": "markdown",
   "metadata": {},
   "source": [
    "***Problem 1.*** Make a function StockVol to calibrate the stock volatility under geometric Brownian motion model. Input histoPrice is an array of 1-year historical prices. You can choose a\n",
    "stock that does not pay dividends for simplicity. The function should return a number that is the\n",
    "historical volatility of the stock."
   ]
  },
  {
   "cell_type": "code",
   "execution_count": 5,
   "metadata": {},
   "outputs": [],
   "source": [
    "def StockVol(histoPrice):\n",
    "    \"\"\"\n",
    "    Compute the stock volatility under GBM using 1-year historical prices\n",
    "    \n",
    "    Inputs:\n",
    "        histoPrice: an array of daily historical prices for one year\n",
    "        \n",
    "    Returns:\n",
    "        histoVol: annualized historical volatility\n",
    "    \"\"\"\n",
    "    \n",
    "    logret = np.diff(np.log(histoPrice))\n",
    "    sigma = np.sqrt(np.var(logret))\n",
    "    histoVol = sigma*np.sqrt(252)  # annualize volatility\n",
    "    \n",
    "    return histoVol"
   ]
  },
  {
   "cell_type": "markdown",
   "metadata": {},
   "source": [
    "***Problem 2.*** Make a function StockPath to generate n stock paths where n is one of the inputs,\n",
    "as well as sigma which is the volatility of the stock. Other inputs needed (might not be limited to)\n",
    "are S0: current stock price; T: terminal time in yearly unit; np: number of time periods; r: interest\n",
    "rate; delta: continuous dividend yield of the stock."
   ]
  },
  {
   "cell_type": "code",
   "execution_count": 6,
   "metadata": {},
   "outputs": [],
   "source": [
    "def StockPath(n,sigma=0.2,S0=100,T=1,nump=252,r=0.01,delta = 0):\n",
    "    \"\"\"\n",
    "    Generate n stock paths\n",
    "    \n",
    "    Inputs:\n",
    "        n: number of paths generated\n",
    "        sigma: volatility of the stock\n",
    "        S0: current stock price\n",
    "        T: terminal time in yearly unit\n",
    "        nump: number of time periods\n",
    "        r: interest rate\n",
    "        delta: continuous dividend yield of the stock\n",
    "        \n",
    "    Returns:\n",
    "        S: an array of stock paths\n",
    "    \"\"\"\n",
    "    \n",
    "    X = np.zeros((n,1+nump))\n",
    "    X[:,0] = S0\n",
    "    for i in range(len(X)):\n",
    "        Z = np.random.normal(0, 1, nump)\n",
    "        X[i,1:]=np.exp(sigma*np.sqrt(T/nump)*Z+(r-delta-sigma**2/2)*(T/nump))\n",
    "    \n",
    "    S = []   \n",
    "    for i in range (n):\n",
    "        S.append(np.cumprod(X[i,:]))\n",
    "    \n",
    "    return np.array(S)"
   ]
  },
  {
   "cell_type": "markdown",
   "metadata": {},
   "source": [
    "***Problem 3.*** Make a function EurOptPrice that takes the stock paths to generate the European\n",
    "put option price through Monte Carlo method. One input is n stock paths. The function should\n",
    "return the discounted payoff vector, price, and variance.\n"
   ]
  },
  {
   "cell_type": "code",
   "execution_count": 7,
   "metadata": {},
   "outputs": [],
   "source": [
    "def EurOptPrice(paths,K,r=0.01,T=1):\n",
    "    \"\"\"\n",
    "    generate the European put option price through Monte Carlo method\n",
    "    \n",
    "    Inputs:\n",
    "        paths: an array of stock paths\n",
    "        K: strike price\n",
    "        r: interest rate\n",
    "        T: terminal time\n",
    "        \n",
    "    Returns:\n",
    "        Payoff: discounted payoffs\n",
    "        price: estimated price of the European put option\n",
    "        variance: variance of discounted payoffs\n",
    "        \n",
    "    \"\"\"\n",
    "    \n",
    "    Payoff = np.maximum(K-paths[:,-1],0)*np.exp(-r*T)\n",
    "    price = np.mean(Payoff)\n",
    "    variance = np.var(Payoff)\n",
    "    \n",
    "    return (Payoff,price,variance)\n",
    "    "
   ]
  },
  {
   "cell_type": "markdown",
   "metadata": {},
   "source": [
    "***Problem 4.*** Make a function AmeOptPrice that takes the stock paths to generate the American put option price without control variates. The function should return the discounted payoff\n",
    "vector, price, and variance. In this part, you will need to implement some regression method and\n",
    "you are required to do it by using machine learning or deep learning. Make sure to explain what\n",
    "you did in the analysis file."
   ]
  },
  {
   "cell_type": "code",
   "execution_count": 8,
   "metadata": {},
   "outputs": [],
   "source": [
    "def AmeOptPrice(paths,K,r=0.01,T=1,nump = 252,delta = 0,sigma=0.2):\n",
    "    \"\"\"\n",
    "    generate the American put option price without control variable\n",
    "    \n",
    "    Inputs:\n",
    "        paths: an array of stock paths\n",
    "        K: strike price\n",
    "        r: interest rate\n",
    "        T: terminal time\n",
    "        nump: number of periods\n",
    "        \n",
    "    Returns:\n",
    "        Payoff: discounted payoffs\n",
    "        price: estimated price of the European put option\n",
    "        variance: variance of discounted payoffs\n",
    "        \n",
    "    \"\"\"\n",
    "    deltaT = T/nump\n",
    "    P = np.maximum(K-paths,0)  # payoffs if early exercise\n",
    "    H = np.zeros(paths.shape)  # holding value\n",
    "    V = np.zeros(paths.shape)  # value of the option\n",
    "    \n",
    "    H[:,-1] = P[:,-1]\n",
    "    V[:,-1] = P[:,-1]\n",
    "    \n",
    "    # compute the expected payoff at termial time given S_(T-1) using one step monte carlo\n",
    "    tmp = paths[:,-2]\n",
    "    for i in range(len(paths)):\n",
    "        tmp_Price = StockPath(100,sigma,tmp[i],deltaT,1,r,delta)\n",
    "        tmp_payoff = np.maximum(K-tmp_Price[:,-1],0)*np.exp(-r*deltaT)\n",
    "        H[i,-2] = np.mean(tmp_payoff)\n",
    "    V[:,-2] = np.maximum(P[:,-2], H[:,-2])  # value of the option at t = T-1\n",
    "    \n",
    "    rf = RandomForestRegressor(n_estimators=30, n_jobs=-1)  #Define Random Forest Regressor \n",
    "    \n",
    "    pbar = ProgressBar()\n",
    "    for i in pbar(range(2,len(V[0]))):\n",
    "        X = paths[:,-i].reshape(-1,1)\n",
    "        Y = V[:,-i].reshape(-1,1)\n",
    "        \n",
    "        reg = rf.fit(X, Y.ravel())  # Polynomial regression (degree = 5)\n",
    "        \n",
    "        tmp = paths[:,-i-1]\n",
    "        for j in range(len(paths)):\n",
    "            tmp_Price = StockPath(100,sigma,tmp[j],deltaT,1,r,delta)\n",
    "            tmp_V = rf.predict(tmp_Price.reshape(-1,1))*np.exp(-r*deltaT)\n",
    "            H[j,-i-1] = np.mean(tmp_V)\n",
    "        V[:,-i-1] = np.maximum(P[:,-i-1], H[:,-i-1])\n",
    " \n",
    "    #Determine the optimal stopping time and payoffs\n",
    "    Payoff = [0]*len(P)\n",
    "    for i in range(len(P)):\n",
    "        idx = np.where(P[i,:]> H[i,:])[0]\n",
    "        if(len(idx) == 0):\n",
    "            Payoff[i] = V[i,-1]*np.exp(-r*T)\n",
    "        else:\n",
    "            Payoff[i] = V[i,idx[0]]*np.exp(-r*idx[0]*deltaT)\n",
    "\n",
    "    price = np.mean(Payoff)\n",
    "    variance = np.var(Payoff)\n",
    "    \n",
    "    return(Payoff, price, variance)    "
   ]
  },
  {
   "cell_type": "markdown",
   "metadata": {},
   "source": [
    "***Problem 5.*** Make a function ContVariate to implement the control variates method. Note that\n",
    "this part is independent of the prices you computed. You should be able to apply this function to\n",
    "any vectors and estimations."
   ]
  },
  {
   "cell_type": "code",
   "execution_count": 9,
   "metadata": {},
   "outputs": [],
   "source": [
    "def ContVariate(y,x,mu_x):\n",
    "    \"\"\"\n",
    "    Implement the control variates method\n",
    "    \n",
    "    Inputs:\n",
    "        y: an array of samples with unknown mean\n",
    "        x: an array of samples with known or estimated mean\n",
    "        mu_x: mean of random variable X\n",
    "        \n",
    "    Returns:\n",
    "        y_hat: estimated mean of y\n",
    "        y_hatVar: variance of the estimator\n",
    "        \n",
    "    \"\"\"\n",
    "    \n",
    "    x_bar = np.mean(x)\n",
    "    y_bar = np.mean(y)\n",
    "    y_var = np.var(y)\n",
    "    corr = np.corrcoef(x,y)[0,1]\n",
    "    \n",
    "    beta = corr/np.var(x)\n",
    "    y_hat = y_bar+beta*(mu_x-x_bar)\n",
    "    y_hatVar = (np.var(y)/len(y))*(1-corr**2)\n",
    "    \n",
    "    return(y_hat,y_hatVar)"
   ]
  },
  {
   "cell_type": "code",
   "execution_count": 10,
   "metadata": {},
   "outputs": [],
   "source": [
    "def BSput(S0, K, T, r, sigma,q):\n",
    "    \"\"\"\n",
    "    Compute true price of the European put using BS formula\n",
    "    \n",
    "    Inputs:\n",
    "        S0: current stock price\n",
    "        K: strike price\n",
    "        T: termial time\n",
    "        r: interest rate\n",
    "        sigma: volatility\n",
    "        q: continuous dividend\n",
    "        \n",
    "    Output:\n",
    "        price: price of the option\n",
    "    \"\"\"\n",
    "    \n",
    "    d1 = (np.log(S0 / K) + (r - q + 0.5 * sigma ** 2) * T) / (sigma * np.sqrt(T))\n",
    "    d2 = (np.log(S0 / K) + (r - q - 0.5 * sigma ** 2) * T) / (sigma * np.sqrt(T))\n",
    "    \n",
    "    price = (K * np.exp(-r * T) * norm.cdf(-d2, 0.0, 1.0) - S0 * norm.cdf(-d1, 0.0, 1.0))\n",
    "    \n",
    "    return price"
   ]
  },
  {
   "cell_type": "markdown",
   "metadata": {},
   "source": [
    "## Test all functions "
   ]
  },
  {
   "cell_type": "code",
   "execution_count": 36,
   "metadata": {},
   "outputs": [],
   "source": [
    "S = StockPath(1000,0.2,100,1,12,0.01,delta = 0)"
   ]
  },
  {
   "cell_type": "code",
   "execution_count": 37,
   "metadata": {},
   "outputs": [],
   "source": [
    "Payoff,price,variance = EurOptPrice(S,95,0.01,1)"
   ]
  },
  {
   "cell_type": "code",
   "execution_count": 38,
   "metadata": {},
   "outputs": [
    {
     "data": {
      "text/plain": [
       "5.093902051427781"
      ]
     },
     "execution_count": 38,
     "metadata": {},
     "output_type": "execute_result"
    }
   ],
   "source": [
    "price"
   ]
  },
  {
   "cell_type": "code",
   "execution_count": 39,
   "metadata": {},
   "outputs": [
    {
     "data": {
      "text/plain": [
       "68.31186099061863"
      ]
     },
     "execution_count": 39,
     "metadata": {},
     "output_type": "execute_result"
    }
   ],
   "source": [
    "variance"
   ]
  },
  {
   "cell_type": "code",
   "execution_count": 40,
   "metadata": {
    "scrolled": true
   },
   "outputs": [
    {
     "name": "stderr",
     "output_type": "stream",
     "text": [
      "100% |########################################################################|\n"
     ]
    }
   ],
   "source": [
    "Payoff1,price1,variance1= AmeOptPrice(paths=S,K=95,r=0.01,T=1,nump = 12)"
   ]
  },
  {
   "cell_type": "code",
   "execution_count": 41,
   "metadata": {
    "scrolled": true
   },
   "outputs": [
    {
     "data": {
      "text/plain": [
       "5.108520888470472"
      ]
     },
     "execution_count": 41,
     "metadata": {},
     "output_type": "execute_result"
    }
   ],
   "source": [
    "price1"
   ]
  },
  {
   "cell_type": "code",
   "execution_count": 42,
   "metadata": {},
   "outputs": [
    {
     "data": {
      "text/plain": [
       "54.226729148052485"
      ]
     },
     "execution_count": 42,
     "metadata": {},
     "output_type": "execute_result"
    }
   ],
   "source": [
    "variance1"
   ]
  },
  {
   "cell_type": "code",
   "execution_count": 19,
   "metadata": {},
   "outputs": [],
   "source": [
    "truePrice = BSput(100, 95, 1, 0.01, 0.2, 0)"
   ]
  },
  {
   "cell_type": "code",
   "execution_count": 29,
   "metadata": {},
   "outputs": [
    {
     "data": {
      "text/plain": [
       "5.114944153135006"
      ]
     },
     "execution_count": 29,
     "metadata": {},
     "output_type": "execute_result"
    }
   ],
   "source": [
    "truePrice"
   ]
  },
  {
   "cell_type": "code",
   "execution_count": 43,
   "metadata": {},
   "outputs": [
    {
     "data": {
      "text/plain": [
       "(5.108798204975928, 0.010274708113919779)"
      ]
     },
     "execution_count": 43,
     "metadata": {},
     "output_type": "execute_result"
    }
   ],
   "source": [
    "ContVariate(Payoff1,Payoff,truePrice)"
   ]
  },
  {
   "cell_type": "code",
   "execution_count": 21,
   "metadata": {},
   "outputs": [
    {
     "data": {
      "text/plain": [
       "6.014122159844128"
      ]
     },
     "execution_count": 21,
     "metadata": {},
     "output_type": "execute_result"
    }
   ],
   "source": [
    "price1"
   ]
  },
  {
   "cell_type": "code",
   "execution_count": 297,
   "metadata": {},
   "outputs": [
    {
     "data": {
      "text/plain": [
       "35.49840650922919"
      ]
     },
     "execution_count": 297,
     "metadata": {},
     "output_type": "execute_result"
    }
   ],
   "source": [
    "variance1"
   ]
  }
 ],
 "metadata": {
  "kernelspec": {
   "display_name": "Python 3",
   "language": "python",
   "name": "python3"
  },
  "language_info": {
   "codemirror_mode": {
    "name": "ipython",
    "version": 3
   },
   "file_extension": ".py",
   "mimetype": "text/x-python",
   "name": "python",
   "nbconvert_exporter": "python",
   "pygments_lexer": "ipython3",
   "version": "3.7.1"
  }
 },
 "nbformat": 4,
 "nbformat_minor": 2
}
