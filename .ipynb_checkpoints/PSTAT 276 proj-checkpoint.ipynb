{
 "cells": [
  {
   "cell_type": "code",
   "execution_count": 3,
   "metadata": {},
   "outputs": [],
   "source": [
    "#! pip install progressbar"
   ]
  },
  {
   "cell_type": "code",
   "execution_count": 4,
   "metadata": {},
   "outputs": [],
   "source": [
    "from progressbar import ProgressBar"
   ]
  },
  {
   "cell_type": "code",
   "execution_count": 44,
   "metadata": {},
   "outputs": [],
   "source": [
    "import numpy as np\n",
    "from sklearn.ensemble import RandomForestRegressor\n",
    "#from sklearn.neighbors import kneighbors_graph, NearestNeighbors\n",
    "import scipy\n",
    "import scipy.sparse as sparse\n",
    "from scipy.stats import norm\n",
    "import matplotlib.pyplot as plt"
   ]
  },
  {
   "cell_type": "markdown",
   "metadata": {},
   "source": [
    "***Problem 1.*** Make a function StockVol to calibrate the stock volatility under geometric Brownian motion model. Input histoPrice is an array of 1-year historical prices. You can choose a\n",
    "stock that does not pay dividends for simplicity. The function should return a number that is the\n",
    "historical volatility of the stock."
   ]
  },
  {
   "cell_type": "code",
   "execution_count": 6,
   "metadata": {},
   "outputs": [],
   "source": [
    "def StockVol(histoPrice):\n",
    "    \"\"\"\n",
    "    Compute the stock volatility under GBM using 1-year historical prices\n",
    "    \n",
    "    Inputs:\n",
    "        histoPrice: an array of daily historical prices for one year\n",
    "        \n",
    "    Returns:\n",
    "        histoVol: annualized historical volatility\n",
    "    \"\"\"\n",
    "    \n",
    "    logret = np.diff(np.log(histoPrice))\n",
    "    sigma = np.sqrt(np.var(logret))\n",
    "    histoVol = sigma*np.sqrt(252)  # annualize volatility\n",
    "    \n",
    "    return histoVol"
   ]
  },
  {
   "cell_type": "markdown",
   "metadata": {},
   "source": [
    "***Problem 2.*** Make a function StockPath to generate n stock paths where n is one of the inputs,\n",
    "as well as sigma which is the volatility of the stock. Other inputs needed (might not be limited to)\n",
    "are S0: current stock price; T: terminal time in yearly unit; np: number of time periods; r: interest\n",
    "rate; delta: continuous dividend yield of the stock."
   ]
  },
  {
   "cell_type": "code",
   "execution_count": 7,
   "metadata": {},
   "outputs": [],
   "source": [
    "def StockPath(n,sigma=0.2,S0=100,T=1,nump=252,r=0.01,delta = 0):\n",
    "    \"\"\"\n",
    "    Generate n stock paths\n",
    "    \n",
    "    Inputs:\n",
    "        n: number of paths generated\n",
    "        sigma: volatility of the stock\n",
    "        S0: current stock price\n",
    "        T: terminal time in yearly unit\n",
    "        nump: number of time periods\n",
    "        r: interest rate\n",
    "        delta: continuous dividend yield of the stock\n",
    "        \n",
    "    Returns:\n",
    "        S: an array of stock paths\n",
    "    \"\"\"\n",
    "    \n",
    "    X = np.zeros((n,1+nump))\n",
    "    X[:,0] = S0\n",
    "    for i in range(len(X)):\n",
    "        Z = np.random.normal(0, 1, nump)\n",
    "        X[i,1:]=np.exp(sigma*np.sqrt(T/nump)*Z+(r-delta-sigma**2/2)*(T/nump))\n",
    "    \n",
    "    S = []   \n",
    "    for i in range (n):\n",
    "        S.append(np.cumprod(X[i,:]))\n",
    "    \n",
    "    return np.array(S)"
   ]
  },
  {
   "cell_type": "markdown",
   "metadata": {},
   "source": [
    "***Problem 3.*** Make a function EurOptPrice that takes the stock paths to generate the European\n",
    "put option price through Monte Carlo method. One input is n stock paths. The function should\n",
    "return the discounted payoff vector, price, and variance.\n"
   ]
  },
  {
   "cell_type": "code",
   "execution_count": 8,
   "metadata": {},
   "outputs": [],
   "source": [
    "def EurOptPrice(paths,K,r=0.01,T=1):\n",
    "    \"\"\"\n",
    "    generate the European put option price through Monte Carlo method\n",
    "    \n",
    "    Inputs:\n",
    "        paths: an array of stock paths\n",
    "        K: strike price\n",
    "        r: interest rate\n",
    "        T: terminal time\n",
    "        \n",
    "    Returns:\n",
    "        Payoff: discounted payoffs\n",
    "        price: estimated price of the European put option\n",
    "        variance: variance of discounted payoffs\n",
    "        \n",
    "    \"\"\"\n",
    "    \n",
    "    Payoff = np.maximum(K-paths[:,-1],0)*np.exp(-r*T)\n",
    "    price = np.mean(Payoff)\n",
    "    variance = np.var(Payoff)\n",
    "    \n",
    "    return (Payoff,price,variance)\n",
    "    "
   ]
  },
  {
   "cell_type": "markdown",
   "metadata": {},
   "source": [
    "***Problem 4.*** Make a function AmeOptPrice that takes the stock paths to generate the American put option price without control variates. The function should return the discounted payoff\n",
    "vector, price, and variance. In this part, you will need to implement some regression method and\n",
    "you are required to do it by using machine learning or deep learning. Make sure to explain what\n",
    "you did in the analysis file."
   ]
  },
  {
   "cell_type": "code",
   "execution_count": 9,
   "metadata": {},
   "outputs": [],
   "source": [
    "def AmeOptPrice(paths,K,r=0.01,T=1,nump = 252):\n",
    "    \"\"\"\n",
    "    generate the American put option price without control variable\n",
    "    \n",
    "    Inputs:\n",
    "        paths: an array of stock paths\n",
    "        K: strike price\n",
    "        r: interest rate\n",
    "        T: terminal time\n",
    "        nump: number of periods\n",
    "        \n",
    "    Returns:\n",
    "        Payoff: discounted payoffs\n",
    "        price: estimated price of the European put option\n",
    "        variance: variance of discounted payoffs\n",
    "        \n",
    "    \"\"\"\n",
    "    deltaT = T/nump\n",
    "    P = np.maximum(K-paths,0)\n",
    "    H = np.zeros(paths.shape)\n",
    "    V = np.zeros(paths.shape)\n",
    "    \n",
    "    H[:,-1] = P[:,-1]\n",
    "    V[:,-1] = P[:,-1]\n",
    "    \n",
    "    rf = RandomForestRegressor(n_estimators=100, n_jobs=-1)  #Define Random Forest Regressor \n",
    "    pbar = ProgressBar()\n",
    "    for i in pbar(range(1,len(H[0])-1)):\n",
    "        X = paths[:,-i-1].reshape(-1,1)\n",
    "        Y = V[:,-i].reshape(-1,1)\n",
    "\n",
    "        reg = rf.fit(X, Y.ravel())  # Polynomial regression (degree = 5)\n",
    "        H[:,-i-1] = rf.predict(X)*np.exp(-r*deltaT)   # discounted holding value\n",
    "        V[:,-i-1] = np.maximum(P[:,-i-1], H[:,-i-1])\n",
    " \n",
    "    reg = rf.fit(X, Y.ravel())\n",
    "    H[:,0] = rf.predict(X)*np.exp(-r*deltaT)   # discounted holding value\n",
    "    V[:,0] = np.maximum(P[:,0], H[:,0])  # discounted payoffs at t = 0\n",
    "    \n",
    "    Payoff = V[:,0]\n",
    "    price = np.mean(Payoff)\n",
    "    variance = np.var(Payoff)\n",
    "    \n",
    "    return(Payoff, price, variance)    "
   ]
  },
  {
   "cell_type": "markdown",
   "metadata": {},
   "source": [
    "***Problem 5.*** Make a function ContVariate to implement the control variates method. Note that\n",
    "this part is independent of the prices you computed. You should be able to apply this function to\n",
    "any vectors and estimations."
   ]
  },
  {
   "cell_type": "code",
   "execution_count": 10,
   "metadata": {},
   "outputs": [],
   "source": [
    "def ContVariate(y,x,mu_x):\n",
    "    \"\"\"\n",
    "    Implement the control variates method\n",
    "    \n",
    "    Inputs:\n",
    "        y: an array of samples with unknown mean\n",
    "        x: an array of samples with known or estimated mean\n",
    "        mu_x: mean of random variable X\n",
    "        \n",
    "    Returns:\n",
    "        y_hat: estimated mean of y\n",
    "        y_hatVar: variance of the estimator\n",
    "        \n",
    "    \"\"\"\n",
    "    \n",
    "    x_bar = np.mean(x)\n",
    "    y_bar = np.mean(y)\n",
    "    y_var = np.var(y)\n",
    "    corr = np.corrcoef(x,y)[0,1]\n",
    "    \n",
    "    beta = corr/np.var(x)\n",
    "    y_hat = y_bar+beta*(mu_x-x_bar)\n",
    "    y_hatVar = (np.var(y)/len(y))*(1-corr**2)\n",
    "    \n",
    "    return(y_hat,y_hatVar)"
   ]
  },
  {
   "cell_type": "code",
   "execution_count": 61,
   "metadata": {},
   "outputs": [],
   "source": [
    "def BSput(S0, K, T, r, sigma,q):\n",
    "    \"\"\"\n",
    "    Compute true price of the European put using BS formula\n",
    "    \n",
    "    Inputs:\n",
    "        S0: current stock price\n",
    "        K: strike price\n",
    "        T: termial time\n",
    "        r: interest rate\n",
    "        sigma: volatility\n",
    "        q: continuous dividend\n",
    "        \n",
    "    Output:\n",
    "        price: price of the option\n",
    "    \"\"\"\n",
    "    \n",
    "    d1 = (np.log(S0 / K) + (r - q + 0.5 * sigma ** 2) * T) / (sigma * np.sqrt(T))\n",
    "    d2 = (np.log(S0 / K) + (r - q - 0.5 * sigma ** 2) * T) / (sigma * np.sqrt(T))\n",
    "    \n",
    "    price = (K * np.exp(-r * T) * norm.cdf(-d2, 0.0, 1.0) - S0 * norm.cdf(-d1, 0.0, 1.0))\n",
    "    \n",
    "    return price"
   ]
  },
  {
   "cell_type": "code",
   "execution_count": 48,
   "metadata": {},
   "outputs": [
    {
     "data": {
      "text/plain": [
       "5.114944153135006"
      ]
     },
     "execution_count": 48,
     "metadata": {},
     "output_type": "execute_result"
    }
   ],
   "source": [
    "truePrice = BSput(100, 95, 1, 0.01, 0.2, 0)"
   ]
  },
  {
   "cell_type": "markdown",
   "metadata": {},
   "source": [
    "Test"
   ]
  },
  {
   "cell_type": "code",
   "execution_count": 53,
   "metadata": {},
   "outputs": [],
   "source": [
    "S = StockPath(1000,0.2,100,1,252,0.01,delta = 0)"
   ]
  },
  {
   "cell_type": "code",
   "execution_count": 54,
   "metadata": {},
   "outputs": [],
   "source": [
    "Payoff,price,variance = EurOptPrice(S,95,0.01,1)"
   ]
  },
  {
   "cell_type": "code",
   "execution_count": 55,
   "metadata": {},
   "outputs": [
    {
     "data": {
      "text/plain": [
       "array([ 0.        ,  0.        ,  0.        ,  0.        ,  6.18742309,\n",
       "        0.        ,  0.        ,  5.14717581, 34.50184934])"
      ]
     },
     "execution_count": 55,
     "metadata": {},
     "output_type": "execute_result"
    }
   ],
   "source": [
    "Payoff[1:10]"
   ]
  },
  {
   "cell_type": "code",
   "execution_count": 56,
   "metadata": {},
   "outputs": [
    {
     "data": {
      "text/plain": [
       "5.073725004138441"
      ]
     },
     "execution_count": 56,
     "metadata": {},
     "output_type": "execute_result"
    }
   ],
   "source": [
    "price"
   ]
  },
  {
   "cell_type": "code",
   "execution_count": 15,
   "metadata": {},
   "outputs": [
    {
     "data": {
      "text/plain": [
       "77.18708932463146"
      ]
     },
     "execution_count": 15,
     "metadata": {},
     "output_type": "execute_result"
    }
   ],
   "source": [
    "variance"
   ]
  },
  {
   "cell_type": "code",
   "execution_count": 16,
   "metadata": {
    "scrolled": true
   },
   "outputs": [
    {
     "name": "stderr",
     "output_type": "stream",
     "text": [
      "100% |########################################################################|\n"
     ]
    }
   ],
   "source": [
    "Payoff1,price1,variance1 = AmeOptPrice(paths=S,K=95,r=0.01,T=1,nump = 252)"
   ]
  },
  {
   "cell_type": "code",
   "execution_count": 18,
   "metadata": {},
   "outputs": [
    {
     "data": {
      "text/plain": [
       "array([5.32695721, 6.67974978, 5.569489  , 6.34834205, 4.62345802,\n",
       "       4.76508169, 6.58376102, 6.94848337, 5.37422007])"
      ]
     },
     "execution_count": 18,
     "metadata": {},
     "output_type": "execute_result"
    }
   ],
   "source": [
    "Payoff1[1:10]"
   ]
  },
  {
   "cell_type": "code",
   "execution_count": 19,
   "metadata": {},
   "outputs": [
    {
     "data": {
      "text/plain": [
       "6.0984459647145925"
      ]
     },
     "execution_count": 19,
     "metadata": {},
     "output_type": "execute_result"
    }
   ],
   "source": [
    "price1"
   ]
  },
  {
   "cell_type": "code",
   "execution_count": 20,
   "metadata": {},
   "outputs": [
    {
     "data": {
      "text/plain": [
       "0.47097417421127163"
      ]
     },
     "execution_count": 20,
     "metadata": {},
     "output_type": "execute_result"
    }
   ],
   "source": [
    "variance1"
   ]
  },
  {
   "cell_type": "code",
   "execution_count": 38,
   "metadata": {
    "scrolled": false
   },
   "outputs": [
    {
     "data": {
      "image/png": "[encoded data removed]",
      "text/plain": [
       "<Figure size 864x792 with 1 Axes>"
      ]
     },
     "metadata": {
      "needs_background": "light"
     },
     "output_type": "display_data"
    }
   ],
   "source": [
    "# visulization of the fit\n",
    "X = S[:,-2].reshape(-1,1)\n",
    "Y = np.maximum(95-S[:,-1],0).reshape(-1,1)\n",
    "\n",
    "#Define Random Forest Regressor \n",
    "rf = RandomForestRegressor(n_estimators=100, n_jobs=-1)\n",
    "# Polynomial regression (degree = 5) \n",
    "reg1 = rf.fit(X, Y.ravel())\n",
    "expected_Y_rf = rf.predict(X)\n",
    "\n",
    "plt.figure(figsize=[12, 11])\n",
    "plt.plot(X, Y , 'r.', label = 'true')\n",
    "plt.plot(X, expected_Y_rf, 'b.',label = 'fitted')\n",
    "plt.title(\"visulization of the fit\")\n",
    "plt.xlabel(\"prices at t = 251/252\")\n",
    "plt.ylabel(\"payoff at t = 1\")\n",
    "plt.legend()\n",
    "plt.show()"
   ]
  },
  {
   "cell_type": "code",
   "execution_count": 57,
   "metadata": {},
   "outputs": [],
   "source": [
    "truePrice = BSput(100, 95, 1, 0.01, 0.2, 0)"
   ]
  },
  {
   "cell_type": "code",
   "execution_count": 58,
   "metadata": {},
   "outputs": [
    {
     "data": {
      "text/plain": [
       "(6.098468739207549, 0.0004703758516342937)"
      ]
     },
     "execution_count": 58,
     "metadata": {},
     "output_type": "execute_result"
    }
   ],
   "source": [
    "ContVariate(Payoff1,Payoff,truePrice)"
   ]
  },
  {
   "cell_type": "code",
   "execution_count": 59,
   "metadata": {},
   "outputs": [
    {
     "data": {
      "text/plain": [
       "6.0984459647145925"
      ]
     },
     "execution_count": 59,
     "metadata": {},
     "output_type": "execute_result"
    }
   ],
   "source": [
    "price1"
   ]
  },
  {
   "cell_type": "code",
   "execution_count": 60,
   "metadata": {},
   "outputs": [
    {
     "data": {
      "text/plain": [
       "0.47097417421127163"
      ]
     },
     "execution_count": 60,
     "metadata": {},
     "output_type": "execute_result"
    }
   ],
   "source": [
    "variance1"
   ]
  }
 ],
 "metadata": {
  "kernelspec": {
   "display_name": "Python 3",
   "language": "python",
   "name": "python3"
  },
  "language_info": {
   "codemirror_mode": {
    "name": "ipython",
    "version": 3
   },
   "file_extension": ".py",
   "mimetype": "text/x-python",
   "name": "python",
   "nbconvert_exporter": "python",
   "pygments_lexer": "ipython3",
   "version": "3.7.1"
  }
 },
 "nbformat": 4,
 "nbformat_minor": 2
}
